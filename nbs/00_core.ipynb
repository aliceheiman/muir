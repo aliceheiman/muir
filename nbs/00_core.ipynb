{
 "cells": [
  {
   "cell_type": "markdown",
   "metadata": {},
   "source": [
    "# core\n",
    "\n",
    "> Fill in a module description here"
   ]
  },
  {
   "cell_type": "code",
   "execution_count": 1,
   "metadata": {},
   "outputs": [],
   "source": [
    "#| default_exp core"
   ]
  },
  {
   "cell_type": "code",
   "execution_count": 2,
   "metadata": {},
   "outputs": [
    {
     "name": "stderr",
     "output_type": "stream",
     "text": [
      "/Users/alice/miniforge3/envs/muir-dev/lib/python3.10/site-packages/nbdev/doclinks.py:20: UserWarning: pkg_resources is deprecated as an API. See https://setuptools.pypa.io/en/latest/pkg_resources.html. The pkg_resources package is slated for removal as early as 2025-11-30. Refrain from using this package or pin to Setuptools<81.\n",
      "  import pkg_resources,importlib\n"
     ]
    }
   ],
   "source": [
    "#| hide\n",
    "from nbdev.showdoc import *"
   ]
  },
  {
   "cell_type": "code",
   "execution_count": 3,
   "metadata": {},
   "outputs": [],
   "source": [
    "%load_ext autoreload\n",
    "%autoreload 2"
   ]
  },
  {
   "cell_type": "code",
   "execution_count": 4,
   "metadata": {},
   "outputs": [],
   "source": [
    "import rasterio\n",
    "import numpy as np\n",
    "import pandas as pd\n",
    "import geopandas as gpd"
   ]
  },
  {
   "cell_type": "code",
   "execution_count": 5,
   "metadata": {},
   "outputs": [],
   "source": [
    "#| hide\n",
    "from importlib.resources import files\n",
    "\n",
    "def get_demo_path(filename):\n",
    "    return files(\"muir.demo\").joinpath(filename)"
   ]
  },
  {
   "cell_type": "code",
   "execution_count": 6,
   "metadata": {},
   "outputs": [
    {
     "data": {
      "text/plain": [
       "Path('/Volumes/creek/muir/muir/demo/dem.tif')"
      ]
     },
     "execution_count": 6,
     "metadata": {},
     "output_type": "execute_result"
    }
   ],
   "source": [
    "#| hide\n",
    "get_demo_path(\"dem.tif\")"
   ]
  },
  {
   "cell_type": "markdown",
   "metadata": {},
   "source": [
    "Let's get the stats and area of a LULC raster."
   ]
  },
  {
   "cell_type": "code",
   "execution_count": 7,
   "metadata": {},
   "outputs": [],
   "source": [
    "#| export\n",
    "def get_unique_classes(raster_path):\n",
    "    with rasterio.open(raster_path) as src:\n",
    "        raster_data = src.read(1)\n",
    "        unique_classes = np.unique(raster_data)\n",
    "    return unique_classes"
   ]
  },
  {
   "cell_type": "markdown",
   "metadata": {},
   "source": [
    "We can get the unique labels like this:"
   ]
  },
  {
   "cell_type": "code",
   "execution_count": 8,
   "metadata": {},
   "outputs": [
    {
     "data": {
      "text/plain": [
       "array([ 0,  3,  5,  9, 11, 12, 15, 20, 21, 23, 24, 25, 29, 30, 31, 32, 33,\n",
       "       39, 41, 46, 48, 49, 50], dtype=uint8)"
      ]
     },
     "execution_count": 8,
     "metadata": {},
     "output_type": "execute_result"
    }
   ],
   "source": [
    "lulc_bbox_path = get_demo_path(\"lulc/mapbiomas-30m-2023-bbox.tif\")\n",
    "lulc_classes = get_unique_classes(lulc_bbox_path)\n",
    "lulc_classes"
   ]
  },
  {
   "cell_type": "code",
   "execution_count": 9,
   "metadata": {},
   "outputs": [],
   "source": [
    "#| export\n",
    "def parse_clr(lulc_clr_path):\n",
    "    records = []\n",
    "    with open(lulc_clr_path, \"r\") as f:\n",
    "        for line in f:\n",
    "            parts = line.strip().split()\n",
    "            if len(parts) < 6:\n",
    "                continue  # skip malformed lines\n",
    "            class_ = int(parts[0])\n",
    "            r, g, b = map(int, parts[1:4])\n",
    "            class_name = \" \".join(parts[5:])\n",
    "            color_rgb = (r, g, b)\n",
    "            color_hex = \"#{:02x}{:02x}{:02x}\".format(r, g, b)\n",
    "            records.append({\n",
    "                \"class\": class_,\n",
    "                \"color_rgb\": color_rgb,\n",
    "                \"color_hex\": color_hex,\n",
    "                \"class_name\": class_name\n",
    "            })\n",
    "    df = pd.DataFrame(records)\n",
    "    return df"
   ]
  },
  {
   "cell_type": "markdown",
   "metadata": {},
   "source": [
    "We can parse LULC codes like this:"
   ]
  },
  {
   "cell_type": "code",
   "execution_count": 10,
   "metadata": {},
   "outputs": [
    {
     "name": "stdout",
     "output_type": "stream",
     "text": [
      "Total rows: 37\n"
     ]
    },
    {
     "data": {
      "application/vnd.microsoft.datawrangler.viewer.v0+json": {
       "columns": [
        {
         "name": "index",
         "rawType": "int64",
         "type": "integer"
        },
        {
         "name": "class",
         "rawType": "int64",
         "type": "integer"
        },
        {
         "name": "color_rgb",
         "rawType": "object",
         "type": "unknown"
        },
        {
         "name": "color_hex",
         "rawType": "object",
         "type": "string"
        },
        {
         "name": "class_name",
         "rawType": "object",
         "type": "string"
        }
       ],
       "ref": "b0214510-e2a9-41b4-b5cc-24a07dee580b",
       "rows": [
        [
         "0",
         "1",
         "(31, 141, 73)",
         "#1f8d49",
         "Forest"
        ],
        [
         "1",
         "3",
         "(31, 141, 73)",
         "#1f8d49",
         "Forest Formation"
        ]
       ],
       "shape": {
        "columns": 4,
        "rows": 2
       }
      },
      "text/html": [
       "<div>\n",
       "<style scoped>\n",
       "    .dataframe tbody tr th:only-of-type {\n",
       "        vertical-align: middle;\n",
       "    }\n",
       "\n",
       "    .dataframe tbody tr th {\n",
       "        vertical-align: top;\n",
       "    }\n",
       "\n",
       "    .dataframe thead th {\n",
       "        text-align: right;\n",
       "    }\n",
       "</style>\n",
       "<table border=\"1\" class=\"dataframe\">\n",
       "  <thead>\n",
       "    <tr style=\"text-align: right;\">\n",
       "      <th></th>\n",
       "      <th>class</th>\n",
       "      <th>color_rgb</th>\n",
       "      <th>color_hex</th>\n",
       "      <th>class_name</th>\n",
       "    </tr>\n",
       "  </thead>\n",
       "  <tbody>\n",
       "    <tr>\n",
       "      <th>0</th>\n",
       "      <td>1</td>\n",
       "      <td>(31, 141, 73)</td>\n",
       "      <td>#1f8d49</td>\n",
       "      <td>Forest</td>\n",
       "    </tr>\n",
       "    <tr>\n",
       "      <th>1</th>\n",
       "      <td>3</td>\n",
       "      <td>(31, 141, 73)</td>\n",
       "      <td>#1f8d49</td>\n",
       "      <td>Forest Formation</td>\n",
       "    </tr>\n",
       "  </tbody>\n",
       "</table>\n",
       "</div>"
      ],
      "text/plain": [
       "   class      color_rgb color_hex        class_name\n",
       "0      1  (31, 141, 73)   #1f8d49            Forest\n",
       "1      3  (31, 141, 73)   #1f8d49  Forest Formation"
      ]
     },
     "execution_count": 10,
     "metadata": {},
     "output_type": "execute_result"
    }
   ],
   "source": [
    "lulc_clr_path = get_demo_path(\"lulc/mapbiomas-lulc-color-codes.clr\")\n",
    "class_mapping = parse_clr(lulc_clr_path)\n",
    "print(f\"Total rows: {len(class_mapping)}\")\n",
    "class_mapping.head(2)"
   ]
  },
  {
   "cell_type": "code",
   "execution_count": 11,
   "metadata": {},
   "outputs": [],
   "source": [
    "#| export\n",
    "def load_lulc(lulc_tif_path, lulc_clr_path):\n",
    "    unique_classes = get_unique_classes(lulc_tif_path)\n",
    "    class_mapping = parse_clr(lulc_clr_path)\n",
    "    relevant_classes = class_mapping[class_mapping['class'].isin(unique_classes)].reset_index(drop=True)\n",
    "    return relevant_classes"
   ]
  },
  {
   "cell_type": "code",
   "execution_count": 12,
   "metadata": {},
   "outputs": [
    {
     "name": "stdout",
     "output_type": "stream",
     "text": [
      "Total rows: 22\n"
     ]
    },
    {
     "data": {
      "application/vnd.microsoft.datawrangler.viewer.v0+json": {
       "columns": [
        {
         "name": "index",
         "rawType": "int64",
         "type": "integer"
        },
        {
         "name": "class",
         "rawType": "int64",
         "type": "integer"
        },
        {
         "name": "color_rgb",
         "rawType": "object",
         "type": "unknown"
        },
        {
         "name": "color_hex",
         "rawType": "object",
         "type": "string"
        },
        {
         "name": "class_name",
         "rawType": "object",
         "type": "string"
        }
       ],
       "ref": "1d097bc2-27eb-4d16-9c27-833f2e7f39fa",
       "rows": [
        [
         "0",
         "3",
         "(31, 141, 73)",
         "#1f8d49",
         "Forest Formation"
        ],
        [
         "1",
         "5",
         "(4, 56, 29)",
         "#04381d",
         "Mangrove"
        ]
       ],
       "shape": {
        "columns": 4,
        "rows": 2
       }
      },
      "text/html": [
       "<div>\n",
       "<style scoped>\n",
       "    .dataframe tbody tr th:only-of-type {\n",
       "        vertical-align: middle;\n",
       "    }\n",
       "\n",
       "    .dataframe tbody tr th {\n",
       "        vertical-align: top;\n",
       "    }\n",
       "\n",
       "    .dataframe thead th {\n",
       "        text-align: right;\n",
       "    }\n",
       "</style>\n",
       "<table border=\"1\" class=\"dataframe\">\n",
       "  <thead>\n",
       "    <tr style=\"text-align: right;\">\n",
       "      <th></th>\n",
       "      <th>class</th>\n",
       "      <th>color_rgb</th>\n",
       "      <th>color_hex</th>\n",
       "      <th>class_name</th>\n",
       "    </tr>\n",
       "  </thead>\n",
       "  <tbody>\n",
       "    <tr>\n",
       "      <th>0</th>\n",
       "      <td>3</td>\n",
       "      <td>(31, 141, 73)</td>\n",
       "      <td>#1f8d49</td>\n",
       "      <td>Forest Formation</td>\n",
       "    </tr>\n",
       "    <tr>\n",
       "      <th>1</th>\n",
       "      <td>5</td>\n",
       "      <td>(4, 56, 29)</td>\n",
       "      <td>#04381d</td>\n",
       "      <td>Mangrove</td>\n",
       "    </tr>\n",
       "  </tbody>\n",
       "</table>\n",
       "</div>"
      ],
      "text/plain": [
       "   class      color_rgb color_hex        class_name\n",
       "0      3  (31, 141, 73)   #1f8d49  Forest Formation\n",
       "1      5    (4, 56, 29)   #04381d          Mangrove"
      ]
     },
     "execution_count": 12,
     "metadata": {},
     "output_type": "execute_result"
    }
   ],
   "source": [
    "lulc_df = load_lulc(lulc_bbox_path, lulc_clr_path)\n",
    "print(f\"Total rows: {len(lulc_df)}\")\n",
    "lulc_df.head(2)"
   ]
  },
  {
   "cell_type": "markdown",
   "metadata": {},
   "source": [
    "Now, we can get some stats for each LULC class."
   ]
  },
  {
   "cell_type": "code",
   "execution_count": 13,
   "metadata": {},
   "outputs": [],
   "source": [
    "#| export\n",
    "def lulc_pixel_stats(raster_path):\n",
    "    \"\"\"\n",
    "    Returns a DataFrame with the number of pixels and area (in square meters) for each unique class in the raster.\n",
    "    \"\"\"\n",
    "    with rasterio.open(raster_path) as src:\n",
    "        data = src.read(1)\n",
    "        pixel_area = abs(src.transform.a) * abs(src.transform.e)  # pixel width * pixel height\n",
    "    classes, counts = np.unique(data, return_counts=True)\n",
    "    stats = []\n",
    "    for cls, count in zip(classes, counts):\n",
    "        area = count * pixel_area\n",
    "        stats.append({\n",
    "            'class': cls,\n",
    "            'pixel_count': count,\n",
    "            'area_m2': area\n",
    "        })\n",
    "    return pd.DataFrame(stats)\n"
   ]
  },
  {
   "cell_type": "code",
   "execution_count": 14,
   "metadata": {},
   "outputs": [
    {
     "data": {
      "application/vnd.microsoft.datawrangler.viewer.v0+json": {
       "columns": [
        {
         "name": "index",
         "rawType": "int64",
         "type": "integer"
        },
        {
         "name": "class",
         "rawType": "uint8",
         "type": "integer"
        },
        {
         "name": "pixel_count",
         "rawType": "int64",
         "type": "integer"
        },
        {
         "name": "area_m2",
         "rawType": "float64",
         "type": "float"
        }
       ],
       "ref": "1b50192e-c2ad-4828-9de2-8183715e2daf",
       "rows": [
        [
         "0",
         "0",
         "8198013",
         "0.5953998075582257"
        ],
        [
         "1",
         "3",
         "11060266",
         "0.8032776049443673"
        ]
       ],
       "shape": {
        "columns": 3,
        "rows": 2
       }
      },
      "text/html": [
       "<div>\n",
       "<style scoped>\n",
       "    .dataframe tbody tr th:only-of-type {\n",
       "        vertical-align: middle;\n",
       "    }\n",
       "\n",
       "    .dataframe tbody tr th {\n",
       "        vertical-align: top;\n",
       "    }\n",
       "\n",
       "    .dataframe thead th {\n",
       "        text-align: right;\n",
       "    }\n",
       "</style>\n",
       "<table border=\"1\" class=\"dataframe\">\n",
       "  <thead>\n",
       "    <tr style=\"text-align: right;\">\n",
       "      <th></th>\n",
       "      <th>class</th>\n",
       "      <th>pixel_count</th>\n",
       "      <th>area_m2</th>\n",
       "    </tr>\n",
       "  </thead>\n",
       "  <tbody>\n",
       "    <tr>\n",
       "      <th>0</th>\n",
       "      <td>0</td>\n",
       "      <td>8198013</td>\n",
       "      <td>0.595400</td>\n",
       "    </tr>\n",
       "    <tr>\n",
       "      <th>1</th>\n",
       "      <td>3</td>\n",
       "      <td>11060266</td>\n",
       "      <td>0.803278</td>\n",
       "    </tr>\n",
       "  </tbody>\n",
       "</table>\n",
       "</div>"
      ],
      "text/plain": [
       "   class  pixel_count   area_m2\n",
       "0      0      8198013  0.595400\n",
       "1      3     11060266  0.803278"
      ]
     },
     "execution_count": 14,
     "metadata": {},
     "output_type": "execute_result"
    }
   ],
   "source": [
    "pixel_stats = lulc_pixel_stats(lulc_bbox_path)\n",
    "pixel_stats.head(2)"
   ]
  },
  {
   "cell_type": "code",
   "execution_count": 15,
   "metadata": {},
   "outputs": [
    {
     "data": {
      "application/vnd.microsoft.datawrangler.viewer.v0+json": {
       "columns": [
        {
         "name": "index",
         "rawType": "int64",
         "type": "integer"
        },
        {
         "name": "class",
         "rawType": "int64",
         "type": "integer"
        },
        {
         "name": "color_rgb",
         "rawType": "object",
         "type": "unknown"
        },
        {
         "name": "color_hex",
         "rawType": "object",
         "type": "string"
        },
        {
         "name": "class_name",
         "rawType": "object",
         "type": "string"
        },
        {
         "name": "pixel_count",
         "rawType": "int64",
         "type": "integer"
        },
        {
         "name": "area_m2",
         "rawType": "float64",
         "type": "float"
        }
       ],
       "ref": "bba674e3-35dc-48f5-b044-f5a90265ba31",
       "rows": [
        [
         "0",
         "3",
         "(31, 141, 73)",
         "#1f8d49",
         "Forest Formation",
         "11060266",
         "0.8032776049443673"
        ],
        [
         "1",
         "5",
         "(4, 56, 29)",
         "#04381d",
         "Mangrove",
         "110531",
         "0.00802757157487043"
        ]
       ],
       "shape": {
        "columns": 6,
        "rows": 2
       }
      },
      "text/html": [
       "<div>\n",
       "<style scoped>\n",
       "    .dataframe tbody tr th:only-of-type {\n",
       "        vertical-align: middle;\n",
       "    }\n",
       "\n",
       "    .dataframe tbody tr th {\n",
       "        vertical-align: top;\n",
       "    }\n",
       "\n",
       "    .dataframe thead th {\n",
       "        text-align: right;\n",
       "    }\n",
       "</style>\n",
       "<table border=\"1\" class=\"dataframe\">\n",
       "  <thead>\n",
       "    <tr style=\"text-align: right;\">\n",
       "      <th></th>\n",
       "      <th>class</th>\n",
       "      <th>color_rgb</th>\n",
       "      <th>color_hex</th>\n",
       "      <th>class_name</th>\n",
       "      <th>pixel_count</th>\n",
       "      <th>area_m2</th>\n",
       "    </tr>\n",
       "  </thead>\n",
       "  <tbody>\n",
       "    <tr>\n",
       "      <th>0</th>\n",
       "      <td>3</td>\n",
       "      <td>(31, 141, 73)</td>\n",
       "      <td>#1f8d49</td>\n",
       "      <td>Forest Formation</td>\n",
       "      <td>11060266</td>\n",
       "      <td>0.803278</td>\n",
       "    </tr>\n",
       "    <tr>\n",
       "      <th>1</th>\n",
       "      <td>5</td>\n",
       "      <td>(4, 56, 29)</td>\n",
       "      <td>#04381d</td>\n",
       "      <td>Mangrove</td>\n",
       "      <td>110531</td>\n",
       "      <td>0.008028</td>\n",
       "    </tr>\n",
       "  </tbody>\n",
       "</table>\n",
       "</div>"
      ],
      "text/plain": [
       "   class      color_rgb color_hex        class_name  pixel_count   area_m2\n",
       "0      3  (31, 141, 73)   #1f8d49  Forest Formation     11060266  0.803278\n",
       "1      5    (4, 56, 29)   #04381d          Mangrove       110531  0.008028"
      ]
     },
     "execution_count": 15,
     "metadata": {},
     "output_type": "execute_result"
    }
   ],
   "source": [
    "lulc_stats = pd.merge(lulc_df, pixel_stats, on=\"class\", how=\"left\")\n",
    "lulc_stats.head(2)"
   ]
  },
  {
   "cell_type": "code",
   "execution_count": 16,
   "metadata": {},
   "outputs": [],
   "source": [
    "lulc_stats_path = get_demo_path(\"lulc/mapbiomas-30m-2023-bbox.csv\")\n",
    "lulc_stats.to_csv(lulc_stats_path, index=False)"
   ]
  },
  {
   "cell_type": "markdown",
   "metadata": {},
   "source": [
    "## Biophysical Table"
   ]
  },
  {
   "cell_type": "code",
   "execution_count": 17,
   "metadata": {},
   "outputs": [],
   "source": [
    "from muir import BIOPHYSICAL_DB_COLUMNS"
   ]
  },
  {
   "cell_type": "code",
   "execution_count": 18,
   "metadata": {
    "vscode": {
     "languageId": "ruby"
    }
   },
   "outputs": [],
   "source": [
    "#| export\n",
    "def make_biophysical_table_template(\n",
    "    lulc_df: pd.DataFrame,         # DataFrame with LULC classes and names\n",
    "    columns: list,                 # List of column names for the biophysical values\n",
    "    output_csv_path: str           # Output CSV file path\n",
    "    ) -> pd.DataFrame:\n",
    "    df = lulc_df.copy().reset_index(drop=True)\n",
    "    table = pd.DataFrame()\n",
    "    table[\"lucode\"] = df[\"class\"]\n",
    "    table[\"description\"] = df[\"class_name\"]\n",
    "    for col in columns:\n",
    "        table[col] = \"\"\n",
    "    table.to_csv(output_csv_path, index=False)\n",
    "    return table"
   ]
  },
  {
   "cell_type": "markdown",
   "metadata": {},
   "source": [
    "We can for example create a template for the Sediment Delivery Ratio (SDR) model we can then import to e.g. Excel or Google Sheets."
   ]
  },
  {
   "cell_type": "code",
   "execution_count": 19,
   "metadata": {},
   "outputs": [
    {
     "data": {
      "application/vnd.microsoft.datawrangler.viewer.v0+json": {
       "columns": [
        {
         "name": "index",
         "rawType": "int64",
         "type": "integer"
        },
        {
         "name": "lucode",
         "rawType": "int64",
         "type": "integer"
        },
        {
         "name": "description",
         "rawType": "object",
         "type": "string"
        },
        {
         "name": "usle_c",
         "rawType": "object",
         "type": "string"
        },
        {
         "name": "usle_p",
         "rawType": "object",
         "type": "string"
        }
       ],
       "ref": "11c1012c-341d-4302-88e7-efbc9a70ffcb",
       "rows": [
        [
         "0",
         "3",
         "Forest Formation",
         "",
         ""
        ],
        [
         "1",
         "5",
         "Mangrove",
         "",
         ""
        ]
       ],
       "shape": {
        "columns": 4,
        "rows": 2
       }
      },
      "text/html": [
       "<div>\n",
       "<style scoped>\n",
       "    .dataframe tbody tr th:only-of-type {\n",
       "        vertical-align: middle;\n",
       "    }\n",
       "\n",
       "    .dataframe tbody tr th {\n",
       "        vertical-align: top;\n",
       "    }\n",
       "\n",
       "    .dataframe thead th {\n",
       "        text-align: right;\n",
       "    }\n",
       "</style>\n",
       "<table border=\"1\" class=\"dataframe\">\n",
       "  <thead>\n",
       "    <tr style=\"text-align: right;\">\n",
       "      <th></th>\n",
       "      <th>lucode</th>\n",
       "      <th>description</th>\n",
       "      <th>usle_c</th>\n",
       "      <th>usle_p</th>\n",
       "    </tr>\n",
       "  </thead>\n",
       "  <tbody>\n",
       "    <tr>\n",
       "      <th>0</th>\n",
       "      <td>3</td>\n",
       "      <td>Forest Formation</td>\n",
       "      <td></td>\n",
       "      <td></td>\n",
       "    </tr>\n",
       "    <tr>\n",
       "      <th>1</th>\n",
       "      <td>5</td>\n",
       "      <td>Mangrove</td>\n",
       "      <td></td>\n",
       "      <td></td>\n",
       "    </tr>\n",
       "  </tbody>\n",
       "</table>\n",
       "</div>"
      ],
      "text/plain": [
       "   lucode       description usle_c usle_p\n",
       "0       3  Forest Formation              \n",
       "1       5          Mangrove              "
      ]
     },
     "execution_count": 19,
     "metadata": {},
     "output_type": "execute_result"
    }
   ],
   "source": [
    "SDR_db_columns = BIOPHYSICAL_DB_COLUMNS[\"SDR\"]\n",
    "biophysical_table_csv = get_demo_path(\"biophysical_table/template_SDR.csv\")\n",
    "db_template = make_biophysical_table_template(\n",
    "    lulc_df, \n",
    "    SDR_db_columns,\n",
    "    biophysical_table_csv\n",
    ")\n",
    "db_template.head(2)"
   ]
  },
  {
   "cell_type": "markdown",
   "metadata": {},
   "source": [
    "### Validate Biophysical Table\n",
    "\n",
    "Ensure your biophysical table contains the information it needs before running your InVEST model. This can save hours of frustration!"
   ]
  },
  {
   "cell_type": "code",
   "execution_count": 62,
   "metadata": {},
   "outputs": [],
   "source": [
    "def check_biophysical_table(\n",
    "    table: pd.DataFrame,\n",
    "    model: str = None,\n",
    "    lulc_df: pd.DataFrame = None\n",
    ") -> None:\n",
    "    \"\"\"\n",
    "    Checks a biophysical table for common issues and prints results with emojis.\n",
    "    \"\"\"\n",
    "    # 1. Missing values\n",
    "    missing_cells = table.isnull().sum().sum()\n",
    "    if missing_cells > 0:\n",
    "        print(f\"❌ Missing values: {int(missing_cells)} cells are empty.\")\n",
    "        for col in table.columns:\n",
    "            n_missing = table[col].isnull().sum()\n",
    "            if n_missing > 0:\n",
    "                print(f\"   - Column '{col}': {n_missing} missing\")\n",
    "    else:\n",
    "        print(\"✅ No missing values.\")\n",
    "\n",
    "    # 2. Missing columns (if model specified)\n",
    "    if model:\n",
    "        required_cols = set(BIOPHYSICAL_DB_COLUMNS.get(model, []))\n",
    "        missing_cols = required_cols - set(table.columns)\n",
    "        if missing_cols:\n",
    "            print(f\"❌ Missing required columns for model '{model}': {sorted(missing_cols)}\")\n",
    "        else:\n",
    "            print(f\"✅ All required columns for model '{model}' are present.\")\n",
    "\n",
    "    # 3. Missing lucode column (regardless)\n",
    "    if 'lucode' not in table.columns:\n",
    "        print(\"❌ Missing 'lucode' column.\")\n",
    "    else:\n",
    "        print(\"✅ 'lucode' column present.\")\n",
    "\n",
    "    # 4. Missing/extra classes (if lulc_df specified)\n",
    "    if lulc_df is not None and 'class' in lulc_df.columns and 'lucode' in table.columns:\n",
    "        expected_classes = set(lulc_df['class'])\n",
    "        table_classes = set(table['lucode'])\n",
    "        missing_classes = expected_classes - table_classes\n",
    "        extra_classes = table_classes - expected_classes\n",
    "\n",
    "        if missing_classes:\n",
    "            missing_info = [\n",
    "                f\"{cls} ({lulc_df.loc[lulc_df['class'] == cls, 'class_name'].values[0]})\"\n",
    "                for cls in sorted(missing_classes)\n",
    "            ]\n",
    "            print(f\"❌ Missing LULC classes in table: {missing_info}\")\n",
    "        else:\n",
    "            print(\"✅ All expected LULC classes are present.\")\n",
    "\n",
    "        if extra_classes:\n",
    "            extra_info = []\n",
    "            for cls in sorted(extra_classes):\n",
    "                # Try to get class name from table if available, else just show code\n",
    "                name = None\n",
    "                if 'description' in table.columns:\n",
    "                    name_row = table.loc[table['lucode'] == cls, 'description']\n",
    "                    if not name_row.empty:\n",
    "                        name = name_row.values[0]\n",
    "                extra_info.append(f\"{cls} ({name})\" if name else str(cls))\n",
    "            print(f\"🟡 Extra LULC classes in table: {extra_info}\")\n",
    "        else:\n",
    "            print(\"✅ No extra LULC classes in table.\")\n",
    "\n",
    "    # 5. Duplicate rows\n",
    "    # Check for duplicated entire rows\n",
    "    if table.duplicated().any():\n",
    "        dup_rows = table[table.duplicated()].index.tolist()\n",
    "        print(f\"❌ Duplicate rows at indices: {dup_rows}\")\n",
    "    else:\n",
    "        print(\"✅ No duplicate rows.\")\n",
    "\n",
    "    # Check for duplicated lulc class (lucode)\n",
    "    if 'lucode' in table.columns:\n",
    "        duplicated_lucode = table['lucode'][table['lucode'].duplicated()].unique()\n",
    "        if len(duplicated_lucode) > 0:\n",
    "            print(f\"❌ Duplicated 'lucode' values: {duplicated_lucode.tolist()}\")\n",
    "        else:\n",
    "            print(\"✅ No duplicated 'lucode' values.\")"
   ]
  },
  {
   "cell_type": "markdown",
   "metadata": {},
   "source": [
    "Let's try it out."
   ]
  },
  {
   "cell_type": "code",
   "execution_count": 63,
   "metadata": {},
   "outputs": [
    {
     "data": {
      "application/vnd.microsoft.datawrangler.viewer.v0+json": {
       "columns": [
        {
         "name": "index",
         "rawType": "int64",
         "type": "integer"
        },
        {
         "name": "lucode",
         "rawType": "int64",
         "type": "integer"
        },
        {
         "name": "description",
         "rawType": "object",
         "type": "string"
        },
        {
         "name": "usle_c",
         "rawType": "float64",
         "type": "float"
        },
        {
         "name": "usle_p",
         "rawType": "float64",
         "type": "float"
        }
       ],
       "ref": "b89edc87-8f28-450c-9e47-34e7a7f4e5a8",
       "rows": [
        [
         "0",
         "3",
         "Forest Formation",
         "0.001",
         "1.0"
        ],
        [
         "1",
         "5",
         "Mangrove",
         "0.002",
         "1.0"
        ]
       ],
       "shape": {
        "columns": 4,
        "rows": 2
       }
      },
      "text/html": [
       "<div>\n",
       "<style scoped>\n",
       "    .dataframe tbody tr th:only-of-type {\n",
       "        vertical-align: middle;\n",
       "    }\n",
       "\n",
       "    .dataframe tbody tr th {\n",
       "        vertical-align: top;\n",
       "    }\n",
       "\n",
       "    .dataframe thead th {\n",
       "        text-align: right;\n",
       "    }\n",
       "</style>\n",
       "<table border=\"1\" class=\"dataframe\">\n",
       "  <thead>\n",
       "    <tr style=\"text-align: right;\">\n",
       "      <th></th>\n",
       "      <th>lucode</th>\n",
       "      <th>description</th>\n",
       "      <th>usle_c</th>\n",
       "      <th>usle_p</th>\n",
       "    </tr>\n",
       "  </thead>\n",
       "  <tbody>\n",
       "    <tr>\n",
       "      <th>0</th>\n",
       "      <td>3</td>\n",
       "      <td>Forest Formation</td>\n",
       "      <td>0.001</td>\n",
       "      <td>1.0</td>\n",
       "    </tr>\n",
       "    <tr>\n",
       "      <th>1</th>\n",
       "      <td>5</td>\n",
       "      <td>Mangrove</td>\n",
       "      <td>0.002</td>\n",
       "      <td>1.0</td>\n",
       "    </tr>\n",
       "  </tbody>\n",
       "</table>\n",
       "</div>"
      ],
      "text/plain": [
       "   lucode       description  usle_c  usle_p\n",
       "0       3  Forest Formation   0.001     1.0\n",
       "1       5          Mangrove   0.002     1.0"
      ]
     },
     "execution_count": 63,
     "metadata": {},
     "output_type": "execute_result"
    }
   ],
   "source": [
    "biophysical_table_path = get_demo_path(\"biophysical_table/tests/demo.csv\")\n",
    "demo_table = pd.read_csv(biophysical_table_path)\n",
    "demo_table.head(2)"
   ]
  },
  {
   "cell_type": "code",
   "execution_count": 64,
   "metadata": {},
   "outputs": [
    {
     "name": "stdout",
     "output_type": "stream",
     "text": [
      "✅ No missing values.\n",
      "✅ All required columns for model 'SDR' are present.\n",
      "✅ 'lucode' column present.\n",
      "✅ All expected LULC classes are present.\n",
      "✅ No extra LULC classes in table.\n",
      "✅ No duplicate rows.\n",
      "✅ No duplicated 'lucode' values.\n"
     ]
    }
   ],
   "source": [
    "check_biophysical_table(demo_table, \"SDR\", lulc_df)"
   ]
  },
  {
   "cell_type": "markdown",
   "metadata": {},
   "source": [
    "We can now test different tables."
   ]
  },
  {
   "cell_type": "code",
   "execution_count": 65,
   "metadata": {},
   "outputs": [
    {
     "name": "stdout",
     "output_type": "stream",
     "text": [
      "✅ No missing values.\n",
      "✅ All required columns for model 'SDR' are present.\n",
      "✅ 'lucode' column present.\n",
      "✅ All expected LULC classes are present.\n",
      "🟡 Extra LULC classes in table: ['55 (Extra Class)']\n",
      "✅ No duplicate rows.\n",
      "✅ No duplicated 'lucode' values.\n"
     ]
    }
   ],
   "source": [
    "test_table_path = get_demo_path(\"biophysical_table/tests/extra_class.csv\")\n",
    "test_table = pd.read_csv(test_table_path, keep_default_na=True)\n",
    "check_biophysical_table(test_table, \"SDR\", lulc_df)"
   ]
  },
  {
   "cell_type": "code",
   "execution_count": 66,
   "metadata": {},
   "outputs": [
    {
     "name": "stdout",
     "output_type": "stream",
     "text": [
      "✅ No missing values.\n",
      "✅ All required columns for model 'SDR' are present.\n",
      "✅ 'lucode' column present.\n",
      "❌ Missing LULC classes in table: ['15 (Pasture)']\n",
      "✅ No extra LULC classes in table.\n",
      "✅ No duplicate rows.\n",
      "✅ No duplicated 'lucode' values.\n"
     ]
    }
   ],
   "source": [
    "test_table_path = get_demo_path(\"biophysical_table/tests/missing_class.csv\")\n",
    "test_table = pd.read_csv(test_table_path, keep_default_na=True)\n",
    "check_biophysical_table(test_table, \"SDR\", lulc_df)"
   ]
  },
  {
   "cell_type": "code",
   "execution_count": 67,
   "metadata": {},
   "outputs": [
    {
     "name": "stdout",
     "output_type": "stream",
     "text": [
      "✅ No missing values.\n",
      "✅ All required columns for model 'SDR' are present.\n",
      "❌ Missing 'lucode' column.\n",
      "✅ No duplicate rows.\n"
     ]
    }
   ],
   "source": [
    "test_table_path = get_demo_path(\"biophysical_table/tests/missing_lucode_column.csv\")\n",
    "test_table = pd.read_csv(test_table_path, keep_default_na=True)\n",
    "check_biophysical_table(test_table, \"SDR\", lulc_df)"
   ]
  },
  {
   "cell_type": "code",
   "execution_count": 68,
   "metadata": {},
   "outputs": [
    {
     "name": "stdout",
     "output_type": "stream",
     "text": [
      "❌ Missing values: 1 cells are empty.\n",
      "   - Column 'usle_c': 1 missing\n",
      "✅ All required columns for model 'SDR' are present.\n",
      "✅ 'lucode' column present.\n",
      "✅ All expected LULC classes are present.\n",
      "✅ No extra LULC classes in table.\n",
      "✅ No duplicate rows.\n",
      "✅ No duplicated 'lucode' values.\n"
     ]
    }
   ],
   "source": [
    "test_table_path = get_demo_path(\"biophysical_table/tests/missing_value.csv\")\n",
    "test_table = pd.read_csv(test_table_path, keep_default_na=True)\n",
    "check_biophysical_table(test_table, \"SDR\", lulc_df)"
   ]
  },
  {
   "cell_type": "code",
   "execution_count": 69,
   "metadata": {},
   "outputs": [
    {
     "name": "stdout",
     "output_type": "stream",
     "text": [
      "❌ Missing values: 3 cells are empty.\n",
      "   - Column 'usle_c': 2 missing\n",
      "   - Column 'usle_p': 1 missing\n",
      "✅ All required columns for model 'SDR' are present.\n",
      "✅ 'lucode' column present.\n",
      "✅ All expected LULC classes are present.\n",
      "✅ No extra LULC classes in table.\n",
      "✅ No duplicate rows.\n",
      "✅ No duplicated 'lucode' values.\n"
     ]
    }
   ],
   "source": [
    "test_table_path = get_demo_path(\"biophysical_table/tests/missing_values.csv\")\n",
    "test_table = pd.read_csv(test_table_path, keep_default_na=True)\n",
    "check_biophysical_table(test_table, \"SDR\", lulc_df)"
   ]
  },
  {
   "cell_type": "code",
   "execution_count": 70,
   "metadata": {},
   "outputs": [
    {
     "name": "stdout",
     "output_type": "stream",
     "text": [
      "✅ No missing values.\n",
      "✅ All required columns for model 'SDR' are present.\n",
      "✅ 'lucode' column present.\n",
      "✅ All expected LULC classes are present.\n",
      "✅ No extra LULC classes in table.\n",
      "✅ No duplicate rows.\n",
      "❌ Duplicated 'lucode' values: [20]\n"
     ]
    }
   ],
   "source": [
    "test_table_path = get_demo_path(\"biophysical_table/tests/duplicate_row.csv\")\n",
    "test_table = pd.read_csv(test_table_path, keep_default_na=True, index_col=False)\n",
    "check_biophysical_table(test_table, \"SDR\", lulc_df)"
   ]
  },
  {
   "cell_type": "code",
   "execution_count": 71,
   "metadata": {},
   "outputs": [
    {
     "name": "stdout",
     "output_type": "stream",
     "text": [
      "✅ No missing values.\n",
      "✅ All required columns for model 'SDR' are present.\n",
      "✅ 'lucode' column present.\n",
      "✅ All expected LULC classes are present.\n",
      "✅ No extra LULC classes in table.\n",
      "❌ Duplicate rows at indices: [11]\n",
      "❌ Duplicated 'lucode' values: [20]\n"
     ]
    }
   ],
   "source": [
    "test_table_path = get_demo_path(\"biophysical_table/tests/duplicate_row_2.csv\")\n",
    "test_table = pd.read_csv(test_table_path, keep_default_na=True, index_col=False)\n",
    "check_biophysical_table(test_table, \"SDR\", lulc_df)"
   ]
  },
  {
   "cell_type": "code",
   "execution_count": null,
   "metadata": {},
   "outputs": [],
   "source": []
  },
  {
   "cell_type": "code",
   "execution_count": null,
   "metadata": {},
   "outputs": [],
   "source": []
  },
  {
   "cell_type": "code",
   "execution_count": null,
   "metadata": {},
   "outputs": [],
   "source": []
  },
  {
   "cell_type": "code",
   "execution_count": 20,
   "metadata": {},
   "outputs": [],
   "source": [
    "#| hide\n",
    "import nbdev; nbdev.nbdev_export()"
   ]
  }
 ],
 "metadata": {
  "kernelspec": {
   "display_name": "muir-dev",
   "language": "python",
   "name": "python3"
  },
  "language_info": {
   "codemirror_mode": {
    "name": "ipython",
    "version": 3
   },
   "file_extension": ".py",
   "mimetype": "text/x-python",
   "name": "python",
   "nbconvert_exporter": "python",
   "pygments_lexer": "ipython3",
   "version": "3.10.18"
  }
 },
 "nbformat": 4,
 "nbformat_minor": 4
}
